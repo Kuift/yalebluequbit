{
 "cells": [
  {
   "cell_type": "markdown",
   "metadata": {},
   "source": [
    "# P1 circuit 4 qubits "
   ]
  },
  {
   "cell_type": "code",
   "execution_count": 68,
   "metadata": {},
   "outputs": [
    {
     "name": "stdout",
     "output_type": "stream",
     "text": [
      "[0.011 0.087 0.001 0.005 0.001 0.007 0.    0.002 0.073 0.665 0.004 0.062\n",
      " 0.009 0.058 0.002 0.013]\n",
      "0: ──RY(2.51)───────────┤  \n",
      "1: ──X─────────RY(2.51)─┤  \n",
      "2: ──X─────────RY(2.51)─┤  \n",
      "3: ──RY(2.51)───────────┤  \n",
      "9\n",
      "1001\n"
     ]
    }
   ],
   "source": [
    "import pennylane as qml\n",
    "import numpy as np\n",
    "# Path to your QASM file\n",
    "qasm_path = \"circuit_qasm/P1_little_peak.qasm\"\n",
    "number_of_qubits = 4\n",
    "# Load the circuit from QASM\n",
    "with open(qasm_path, \"r\") as f:\n",
    "    qasm_str = f.read()\n",
    "\n",
    "# Create a device matching the number of qubits (adjust wires as needed)\n",
    "dev = qml.device(\"default.qubit\", wires=number_of_qubits,shots=1000)\n",
    "\n",
    "# Convert QASM string to a PennyLane circuit\n",
    "circuit = qml.from_qasm(qasm_str)\n",
    "\n",
    "@qml.qnode(dev)\n",
    "def run_circuit():\n",
    "    circuit()\n",
    "    return qml.probs()\n",
    "\n",
    "# Run the circuit\n",
    "state = run_circuit()\n",
    "print(state)\n",
    "print(qml.draw(circuit)())\n",
    "max_index = np.argmax(state)\n",
    "print(max_index)\n",
    "print(format(max_index, f'0{number_of_qubits}b'))"
   ]
  },
  {
   "cell_type": "markdown",
   "metadata": {},
   "source": [
    "# P2 circuit 28 qubits"
   ]
  },
  {
   "cell_type": "code",
   "execution_count": null,
   "metadata": {},
   "outputs": [],
   "source": []
  }
 ],
 "metadata": {
  "kernelspec": {
   "display_name": "Python 3",
   "language": "python",
   "name": "python3"
  },
  "language_info": {
   "codemirror_mode": {
    "name": "ipython",
    "version": 3
   },
   "file_extension": ".py",
   "mimetype": "text/x-python",
   "name": "python",
   "nbconvert_exporter": "python",
   "pygments_lexer": "ipython3",
   "version": "3.12.6"
  }
 },
 "nbformat": 4,
 "nbformat_minor": 2
}
